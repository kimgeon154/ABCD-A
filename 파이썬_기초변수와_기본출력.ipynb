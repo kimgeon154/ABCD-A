{
  "nbformat": 4,
  "nbformat_minor": 0,
  "metadata": {
    "colab": {
      "provenance": [],
      "authorship_tag": "ABX9TyNF6mEmYLHvkK2NHzymbDO/",
      "include_colab_link": true
    },
    "kernelspec": {
      "name": "python3",
      "display_name": "Python 3"
    },
    "language_info": {
      "name": "python"
    }
  },
  "cells": [
    {
      "cell_type": "markdown",
      "metadata": {
        "id": "view-in-github",
        "colab_type": "text"
      },
      "source": [
        "<a href=\"https://colab.research.google.com/github/kimgeon154/ABCD-A/blob/20250308/%ED%8C%8C%EC%9D%B4%EC%8D%AC_%EA%B8%B0%EC%B4%88%EB%B3%80%EC%88%98%EC%99%80_%EA%B8%B0%EB%B3%B8%EC%B6%9C%EB%A0%A5.ipynb\" target=\"_parent\"><img src=\"https://colab.research.google.com/assets/colab-badge.svg\" alt=\"Open In Colab\"/></a>"
      ]
    },
    {
      "cell_type": "code",
      "source": [
        "watch=10000\n",
        "a='pig'\n",
        "b='dad'\n",
        "\n",
        "print(a)\n",
        "print(b)\n",
        "print(watch)\n",
        "print(a+b)\n",
        "print(a+' '+b)"
      ],
      "metadata": {
        "colab": {
          "base_uri": "https://localhost:8080/"
        },
        "id": "-nIGolrzOhz1",
        "outputId": "85ec7d80-2854-4d1e-c2ce-e082f16a3a35"
      },
      "execution_count": 7,
      "outputs": [
        {
          "output_type": "stream",
          "name": "stdout",
          "text": [
            "pig\n",
            "dad\n",
            "10000\n",
            "pigdad\n",
            "pig dad\n"
          ]
        }
      ]
    },
    {
      "cell_type": "code",
      "source": [
        "aa=1\n",
        "bb=100\n",
        "\n",
        "aa,bb=bb,aa\n",
        "print(aa)\n",
        "print(bb)"
      ],
      "metadata": {
        "colab": {
          "base_uri": "https://localhost:8080/"
        },
        "id": "bV5gsqsSvu_m",
        "outputId": "44e96072-0078-449d-88f5-4d5c359a69c3"
      },
      "execution_count": 5,
      "outputs": [
        {
          "output_type": "stream",
          "name": "stdout",
          "text": [
            "100\n",
            "1\n"
          ]
        }
      ]
    },
    {
      "cell_type": "code",
      "source": [
        "#예제입니다\n",
        "a1=[10,20,30]\n",
        "b1=a1\n",
        "a1[0]=200\n",
        "print(b1)"
      ],
      "metadata": {
        "colab": {
          "base_uri": "https://localhost:8080/"
        },
        "id": "8wTYNofAv15u",
        "outputId": "fb774f90-2ef2-4a52-dd33-4e1923610396"
      },
      "execution_count": 4,
      "outputs": [
        {
          "output_type": "stream",
          "name": "stdout",
          "text": [
            "[200, 20, 30]\n"
          ]
        }
      ]
    },
    {
      "cell_type": "code",
      "source": [
        "#print문 예제입니다\n",
        "print(\"Hello World\")\n",
        "print('Hello World')\n",
        "print(1)\n",
        "print(\"1\")\n",
        "c =1\n",
        "print(\"c=\"+str(c))\n",
        "print(\"c=\",c)\n",
        "print(\"c={}\".format(c))"
      ],
      "metadata": {
        "colab": {
          "base_uri": "https://localhost:8080/"
        },
        "id": "f9ZqfbBtxNIJ",
        "outputId": "6d3eb435-86de-4b5c-99f9-65b0045af2cb"
      },
      "execution_count": 3,
      "outputs": [
        {
          "output_type": "stream",
          "name": "stdout",
          "text": [
            "Hello World\n",
            "Hello World\n",
            "1\n",
            "1\n",
            "c=1\n",
            "c= 1\n",
            "c=1\n"
          ]
        }
      ]
    },
    {
      "cell_type": "code",
      "source": [
        "#day1 프로그램\n",
        "a = [10, 20, 30]\n",
        "b = 1\n",
        "c = 2\n",
        "print (a)\n",
        "print(\"a={}\".format(a))\n",
        "print(\"b={}\".format(b))\n",
        "print(\"a={}, b={}, c={}\".format(a, b, c))"
      ],
      "metadata": {
        "colab": {
          "base_uri": "https://localhost:8080/"
        },
        "id": "1C2PIaDIxYTI",
        "outputId": "96d06d4b-3bd9-4927-94bc-e9e9c242fe76"
      },
      "execution_count": 8,
      "outputs": [
        {
          "output_type": "stream",
          "name": "stdout",
          "text": [
            "[10, 20, 30]\n",
            "a=[10, 20, 30]\n",
            "b=1\n",
            "a=[10, 20, 30], b=1, c=2\n"
          ]
        }
      ]
    }
  ]
}